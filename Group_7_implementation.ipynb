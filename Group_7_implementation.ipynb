{
 "cells": [
  {
   "cell_type": "code",
   "execution_count": 93,
   "id": "99b8c977",
   "metadata": {},
   "outputs": [],
   "source": [
    "import numpy as np\n",
    "import pandas as pd\n",
    "import pickle\n",
    "from keras.models import load_model"
   ]
  },
  {
   "cell_type": "markdown",
   "id": "bff04a18",
   "metadata": {},
   "source": [
    "In the same the folder with the implementation file, there should be a HDF5 file \"neuralnetwork.h5\" that stores the fitted neural network and a pickle file \"scaler.pkl\" that store the fitted standarize scaler."
   ]
  },
  {
   "cell_type": "code",
   "execution_count": 95,
   "id": "ac4b2d3e",
   "metadata": {},
   "outputs": [
    {
     "name": "stdout",
     "output_type": "stream",
     "text": [
      "125/125 [==============================] - 2s 2ms/step - loss: nan\n",
      "\n",
      " MSE on the test data of the neural network:  nan\n"
     ]
    }
   ],
   "source": [
    "neuralnet = load_model(\"neuralnetwork.h5\")        #load the neural network model\n",
    "scaler = pickle.load(open('scaler.pkl','rb'))     #load the standardize scaler\n",
    "\n",
    "#load 'ATM_test.csv'\n",
    "ATM_test = pd.read_csv('ATM_test.csv')\n",
    "X = ATM_test.iloc[:,:-1]              #seperate features\n",
    "y = ATM_test.iloc[:,-1]               #seperate output\n",
    "features = scaler.transform(X)        #standardize the features, using the scaler fitted on the 80% train data\n",
    "\n",
    "MSE_nn = neuralnet.evaluate(features, y)\n",
    "print('\\n MSE on the test data of the neural network: ', round(MSE_nn,4))"
   ]
  }
 ],
 "metadata": {
  "kernelspec": {
   "display_name": "Python 3 (ipykernel)",
   "language": "python",
   "name": "python3"
  },
  "language_info": {
   "codemirror_mode": {
    "name": "ipython",
    "version": 3
   },
   "file_extension": ".py",
   "mimetype": "text/x-python",
   "name": "python",
   "nbconvert_exporter": "python",
   "pygments_lexer": "ipython3",
   "version": "3.9.13"
  }
 },
 "nbformat": 4,
 "nbformat_minor": 5
}
